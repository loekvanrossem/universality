{
 "cells": [
  {
   "cell_type": "code",
   "execution_count": 1,
   "metadata": {},
   "outputs": [],
   "source": [
    "## Import libraries\n",
    "import sys\n",
    "from tqdm import trange\n",
    "\n",
    "import numpy as np\n",
    "import matplotlib.pyplot as plt\n",
    "import pandas as pd\n",
    "\n",
    "import torch\n",
    "from torch import nn\n",
    "from torch.utils.data import TensorDataset\n",
    "\n",
    "source = \"../source\"\n",
    "sys.path.append(source)\n",
    "\n",
    "from preprocessing import Encoding\n",
    "from compilation import Compiler, ScalarTracker, ActivationTracker\n",
    "import publication\n",
    "import simulate\n",
    "import models\n",
    "\n",
    "device = torch.device(\"cpu\")\n",
    "\n",
    "save = True"
   ]
  },
  {
   "cell_type": "code",
   "execution_count": 2,
   "metadata": {},
   "outputs": [],
   "source": [
    "## Load settings\n",
    "settings = \"default\"\n",
    "\n",
    "(\n",
    "    model_type,\n",
    "    nonlinearity,\n",
    "    gain,\n",
    "    lr,\n",
    "    P,\n",
    "    L,\n",
    "    n_epochs,\n",
    "    hidden_layer,\n",
    "    dx2,\n",
    "    dy2,\n",
    "    in_dim,\n",
    "    out_dim,\n",
    ") = (\n",
    "    pd.read_csv(\"model_settings/2 points.txt\", sep=\" \", header=0)\n",
    "    .loc[settings]\n",
    "    .to_numpy()\n",
    ")\n",
    "model_type = getattr(models, model_type)\n",
    "\n",
    "if nonlinearity == \"none\":\n",
    "    nonlinearity = None\n",
    "else:\n",
    "    nonlinearity = getattr(torch.nn.functional, nonlinearity)"
   ]
  },
  {
   "cell_type": "code",
   "execution_count": 3,
   "metadata": {},
   "outputs": [],
   "source": [
    "## Generate data\n",
    "input_dim, output_dim = in_dim, out_dim\n",
    "\n",
    "inputs = np.array([[-1] * input_dim, [-1 + np.sqrt(dx2)] * input_dim]) / np.sqrt(\n",
    "    input_dim\n",
    ")\n",
    "outputs = np.array([[0.6] * output_dim, [0.6 + np.sqrt(dy2)] * output_dim]) / np.sqrt(\n",
    "    output_dim\n",
    ")\n",
    "names = [\"A\", \"B\"]\n",
    "data = TensorDataset(\n",
    "    torch.from_numpy(inputs.astype(np.float32)).to(device),\n",
    "    torch.from_numpy(outputs.astype(np.float32)).to(device),\n",
    ")\n",
    "\n",
    "encoding = Encoding(dict(zip(names, inputs)))\n",
    "\n",
    "train_datasets = [data]\n",
    "val_dataset = [data]\n",
    "\n",
    "tracked_datasets = val_dataset + train_datasets"
   ]
  },
  {
   "cell_type": "code",
   "execution_count": 4,
   "metadata": {},
   "outputs": [],
   "source": [
    "## Instantiate model\n",
    "model = model_type(\n",
    "    encoding=encoding,\n",
    "    input_size=input_dim,\n",
    "    output_size=output_dim,\n",
    "    hidden_dim=P,\n",
    "    n_hid_layers=L,\n",
    "    device=device,\n",
    "    init_std=gain,\n",
    "    non_linearity=nonlinearity,\n",
    ")"
   ]
  },
  {
   "cell_type": "code",
   "execution_count": 5,
   "metadata": {},
   "outputs": [],
   "source": [
    "## Setup compiler\n",
    "criterion = lambda x, y: 0.5 * nn.functional.mse_loss(x, y)\n",
    "optimizer = torch.optim.SGD(model.parameters(), lr=lr)\n",
    "compiler = Compiler(model, criterion, optimizer)\n",
    "compiler.trackers = {\n",
    "    \"loss\": ScalarTracker(lambda: compiler.validation(tracked_datasets)),\n",
    "    \"output\": ActivationTracker(\n",
    "        model, lambda inputs: model(inputs)[0], datasets=tracked_datasets\n",
    "    ),\n",
    "}\n",
    "for l in range(L):\n",
    "    compiler.trackers[f\"hidden_{l}\"] = ActivationTracker(\n",
    "        model, lambda inputs, l=l: model(inputs)[1][l], datasets=tracked_datasets\n",
    "    )"
   ]
  },
  {
   "cell_type": "code",
   "execution_count": 6,
   "metadata": {},
   "outputs": [
    {
     "name": "stderr",
     "output_type": "stream",
     "text": [
      "Training: 100%|██████████| 3000/3000 [04:24<00:00, 11.32steps/s, train_loss=0.00000, val_loss=0.00000]\n"
     ]
    }
   ],
   "source": [
    "## Training run\n",
    "compiler.training_run(\n",
    "    train_datasets,\n",
    "    n_epochs=n_epochs,\n",
    "    batch_size=100,\n",
    ")"
   ]
  },
  {
   "cell_type": "code",
   "execution_count": 7,
   "metadata": {},
   "outputs": [],
   "source": [
    "## Get data\n",
    "data_output = compiler.trackers[\"output\"].get_trace()\n",
    "epochs = list(set(data_output.index.get_level_values(\"Epoch\")))\n",
    "epochs.sort()\n",
    "y_A = [\n",
    "    np.array(data.loc[epoch, 0, \"A\"])\n",
    "    for epoch, data in data_output.query(\"Dataset == 0\").groupby(\"Epoch\")\n",
    "]\n",
    "y_B = [\n",
    "    np.array(data.loc[epoch, 0, \"B\"])\n",
    "    for epoch, data in data_output.query(\"Dataset == 0\").groupby(\"Epoch\")\n",
    "]\n",
    "y_true_A, y_true_B = outputs[0], outputs[1]\n",
    "dy2 = np.sum((y_true_B - y_true_A) ** 2)\n",
    "y2 = np.array([np.sum((y_A[epoch] - y_B[epoch]) ** 2) for epoch in epochs])\n",
    "w = np.array(\n",
    "    [\n",
    "        y2[epoch] - np.dot(y_true_A - y_true_B, y_A[epoch] - y_B[epoch])\n",
    "        for epoch in epochs\n",
    "    ]\n",
    ")"
   ]
  },
  {
   "cell_type": "code",
   "execution_count": 8,
   "metadata": {},
   "outputs": [
    {
     "name": "stderr",
     "output_type": "stream",
     "text": [
      "  5%|▌         | 1/20 [00:04<01:20,  4.23s/it]"
     ]
    },
    {
     "name": "stdout",
     "output_type": "stream",
     "text": [
      "Loss: 22.120768888516587\n"
     ]
    },
    {
     "name": "stderr",
     "output_type": "stream",
     "text": [
      " 10%|█         | 2/20 [00:11<01:46,  5.89s/it]"
     ]
    },
    {
     "name": "stdout",
     "output_type": "stream",
     "text": [
      "Loss: 20.300055688355446\n"
     ]
    },
    {
     "name": "stderr",
     "output_type": "stream",
     "text": [
      " 15%|█▌        | 3/20 [00:19<02:00,  7.07s/it]"
     ]
    },
    {
     "name": "stdout",
     "output_type": "stream",
     "text": [
      "Loss: 17.322402784083543\n"
     ]
    },
    {
     "name": "stderr",
     "output_type": "stream",
     "text": [
      " 20%|██        | 4/20 [00:25<01:46,  6.63s/it]"
     ]
    },
    {
     "name": "stdout",
     "output_type": "stream",
     "text": [
      "Loss: 13.350044426221622\n"
     ]
    },
    {
     "name": "stderr",
     "output_type": "stream",
     "text": [
      " 25%|██▌       | 5/20 [00:30<01:30,  6.05s/it]"
     ]
    },
    {
     "name": "stdout",
     "output_type": "stream",
     "text": [
      "Loss: 9.777187006547372\n"
     ]
    },
    {
     "name": "stderr",
     "output_type": "stream",
     "text": [
      " 30%|███       | 6/20 [00:34<01:12,  5.17s/it]"
     ]
    },
    {
     "name": "stdout",
     "output_type": "stream",
     "text": [
      "Loss: 7.701530561493993\n"
     ]
    },
    {
     "name": "stderr",
     "output_type": "stream",
     "text": [
      " 35%|███▌      | 7/20 [00:41<01:17,  5.97s/it]"
     ]
    },
    {
     "name": "stdout",
     "output_type": "stream",
     "text": [
      "Loss: 5.056510886349508\n"
     ]
    },
    {
     "name": "stderr",
     "output_type": "stream",
     "text": [
      " 40%|████      | 8/20 [00:48<01:13,  6.15s/it]"
     ]
    },
    {
     "name": "stdout",
     "output_type": "stream",
     "text": [
      "Loss: 3.0783108817343843\n"
     ]
    },
    {
     "name": "stderr",
     "output_type": "stream",
     "text": [
      " 45%|████▌     | 9/20 [00:54<01:06,  6.03s/it]"
     ]
    },
    {
     "name": "stdout",
     "output_type": "stream",
     "text": [
      "Loss: 1.8474801654157131\n"
     ]
    },
    {
     "name": "stderr",
     "output_type": "stream",
     "text": [
      " 50%|█████     | 10/20 [00:58<00:54,  5.46s/it]"
     ]
    },
    {
     "name": "stdout",
     "output_type": "stream",
     "text": [
      "Loss: 0.8573543317121756\n"
     ]
    },
    {
     "name": "stderr",
     "output_type": "stream",
     "text": [
      " 55%|█████▌    | 11/20 [01:02<00:44,  4.95s/it]"
     ]
    },
    {
     "name": "stdout",
     "output_type": "stream",
     "text": [
      "Loss: 0.3582200336562439\n"
     ]
    },
    {
     "name": "stderr",
     "output_type": "stream",
     "text": [
      " 60%|██████    | 12/20 [01:09<00:44,  5.58s/it]"
     ]
    },
    {
     "name": "stdout",
     "output_type": "stream",
     "text": [
      "Loss: 0.09401725860332216\n"
     ]
    },
    {
     "name": "stderr",
     "output_type": "stream",
     "text": [
      " 65%|██████▌   | 13/20 [01:16<00:42,  6.13s/it]"
     ]
    },
    {
     "name": "stdout",
     "output_type": "stream",
     "text": [
      "Loss: 0.10022910816537009\n"
     ]
    },
    {
     "name": "stderr",
     "output_type": "stream",
     "text": [
      " 70%|███████   | 14/20 [01:19<00:30,  5.15s/it]"
     ]
    },
    {
     "name": "stdout",
     "output_type": "stream",
     "text": [
      "Loss: 0.23497499836068902\n"
     ]
    },
    {
     "name": "stderr",
     "output_type": "stream",
     "text": [
      " 75%|███████▌  | 15/20 [01:23<00:24,  4.93s/it]"
     ]
    },
    {
     "name": "stdout",
     "output_type": "stream",
     "text": [
      "Loss: 0.5229831516523521\n"
     ]
    },
    {
     "name": "stderr",
     "output_type": "stream",
     "text": [
      " 80%|████████  | 16/20 [01:28<00:19,  4.80s/it]"
     ]
    },
    {
     "name": "stdout",
     "output_type": "stream",
     "text": [
      "Loss: 0.9207606644442051\n"
     ]
    },
    {
     "name": "stderr",
     "output_type": "stream",
     "text": [
      " 85%|████████▌ | 17/20 [01:32<00:14,  4.70s/it]"
     ]
    },
    {
     "name": "stdout",
     "output_type": "stream",
     "text": [
      "Loss: 1.4913575847150184\n"
     ]
    },
    {
     "name": "stderr",
     "output_type": "stream",
     "text": [
      " 90%|█████████ | 18/20 [01:36<00:08,  4.27s/it]"
     ]
    },
    {
     "name": "stdout",
     "output_type": "stream",
     "text": [
      "Loss: 3.036353123014333\n"
     ]
    },
    {
     "name": "stderr",
     "output_type": "stream",
     "text": [
      " 95%|█████████▌| 19/20 [01:41<00:04,  4.54s/it]"
     ]
    },
    {
     "name": "stdout",
     "output_type": "stream",
     "text": [
      "Loss: 2.060694655737974\n"
     ]
    },
    {
     "name": "stderr",
     "output_type": "stream",
     "text": [
      "100%|██████████| 20/20 [01:47<00:00,  5.36s/it]"
     ]
    },
    {
     "name": "stdout",
     "output_type": "stream",
     "text": [
      "Loss: 1.622818304372048\n"
     ]
    },
    {
     "name": "stderr",
     "output_type": "stream",
     "text": [
      "\n"
     ]
    }
   ],
   "source": [
    "## Fit effective learning rates and plot results\n",
    "eta_hs, eta_ys, losses = [], [], []\n",
    "for l in trange(L):\n",
    "    data_hid = compiler.trackers[f\"hidden_{l}\"].get_trace()\n",
    "    epochs = list(set(data_output.index.get_level_values(\"Epoch\")))\n",
    "    epochs.sort()\n",
    "\n",
    "    h_A = [\n",
    "        np.array(data.loc[epoch, 0, \"A\"])\n",
    "        for epoch, data in data_hid.query(\"Dataset == 0\").groupby(\"Epoch\")\n",
    "    ]\n",
    "    h_B = [\n",
    "        np.array(data.loc[epoch, 0, \"B\"])\n",
    "        for epoch, data in data_hid.query(\"Dataset == 0\").groupby(\"Epoch\")\n",
    "    ]\n",
    "\n",
    "    h2 = np.array([np.sum((h_A[epoch] - h_B[epoch]) ** 2) for epoch in epochs])\n",
    "\n",
    "    eta_h_opt, eta_y_opt, loss = simulate.optimize_eta(\n",
    "        h2, y2, w, dx2, dy2, guesses=np.logspace(-6, 2, 100)\n",
    "    )\n",
    "    eta_hs.append(eta_h_opt)\n",
    "    eta_ys.append(eta_y_opt)\n",
    "    losses.append(loss)"
   ]
  },
  {
   "cell_type": "code",
   "execution_count": 9,
   "metadata": {},
   "outputs": [
    {
     "data": {
      "image/png": "[encoded data removed]",
      "text/plain": [
       "<Figure size 400x300 with 1 Axes>"
      ]
     },
     "metadata": {},
     "output_type": "display_data"
    }
   ],
   "source": [
    "losses, eta_hs, eta_ys = [np.array(a) for a in [losses, eta_hs, eta_ys]]\n",
    "\n",
    "publication.set_color_mixed(0)\n",
    "fig = plt.figure(figsize=(4, 3))\n",
    "publication.skip_colors(6)\n",
    "plt.plot(0.02 * losses, label=\"Fit loss\")\n",
    "plt.plot(70 * eta_hs, label=r\"$1/\\tau_h$\")\n",
    "publication.skip_colors(7)\n",
    "\n",
    "plt.plot(7 * eta_ys, label=r\"$1/\\tau_y$\")\n",
    "plt.xlabel(\"Layer\")\n",
    "legend = plt.legend()\n",
    "ax = plt.gca()\n",
    "ax.axes.get_yaxis().set_visible(False)\n",
    "if save:\n",
    "    publication.plt_show(save_path=\"plots/2_points/architecture/depth\")\n",
    "else:\n",
    "    publication.plt_show()"
   ]
  }
 ],
 "metadata": {
  "kernelspec": {
   "display_name": "Python 3.10.6 ('rnn')",
   "language": "python",
   "name": "python3"
  },
  "language_info": {
   "codemirror_mode": {
    "name": "ipython",
    "version": 3
   },
   "file_extension": ".py",
   "mimetype": "text/x-python",
   "name": "python",
   "nbconvert_exporter": "python",
   "pygments_lexer": "ipython3",
   "version": "3.10.13"
  },
  "orig_nbformat": 4,
  "vscode": {
   "interpreter": {
    "hash": "e02af9847f8f14625728f2f7147d07d87bda9043f1b0a8cf0822fa7c64756065"
   }
  }
 },
 "nbformat": 4,
 "nbformat_minor": 2
}
