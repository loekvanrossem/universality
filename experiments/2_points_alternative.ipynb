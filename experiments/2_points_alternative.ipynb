{
 "cells": [
  {
   "cell_type": "code",
   "execution_count": 22,
   "metadata": {},
   "outputs": [],
   "source": [
    "## Import libraries\n",
    "import sys\n",
    "\n",
    "import numpy as np\n",
    "import matplotlib.pyplot as plt\n",
    "import pandas as pd\n",
    "import scipy\n",
    "from numba import njit\n",
    "\n",
    "\n",
    "import torch\n",
    "from torch import nn\n",
    "from torch.utils.data import TensorDataset\n",
    "\n",
    "source = \"../source\"\n",
    "sys.path.append(source)\n",
    "\n",
    "from preprocessing import Encoding\n",
    "from compilation import Compiler, ScalarTracker, ActivationTracker\n",
    "import publication\n",
    "import models\n",
    "\n",
    "device = torch.device(\"cpu\")\n",
    "\n",
    "save = False"
   ]
  },
  {
   "cell_type": "code",
   "execution_count": 2,
   "metadata": {},
   "outputs": [],
   "source": [
    "## Load settings\n",
    "settings = \"default\"\n",
    "\n",
    "(\n",
    "    model_type,\n",
    "    nonlinearity,\n",
    "    gain,\n",
    "    lr,\n",
    "    P,\n",
    "    L,\n",
    "    n_epochs,\n",
    "    hidden_layer,\n",
    "    dx2,\n",
    "    dy2,\n",
    "    in_dim,\n",
    "    out_dim,\n",
    ") = (\n",
    "    pd.read_csv(\"model_settings/2 points.txt\", sep=\" \", header=0)\n",
    "    .loc[settings]\n",
    "    .to_numpy()\n",
    ")\n",
    "model_type = getattr(models, model_type)\n",
    "\n",
    "if nonlinearity == \"none\":\n",
    "    nonlinearity = None\n",
    "else:\n",
    "    nonlinearity = getattr(torch.nn.functional, nonlinearity)"
   ]
  },
  {
   "cell_type": "code",
   "execution_count": 3,
   "metadata": {},
   "outputs": [],
   "source": [
    "lr = lr / 2\n",
    "n_epochs = n_epochs * 2"
   ]
  },
  {
   "cell_type": "code",
   "execution_count": 4,
   "metadata": {},
   "outputs": [],
   "source": [
    "## Generate data\n",
    "input_dim, output_dim = in_dim, out_dim\n",
    "\n",
    "inputs = np.array([[-1] * input_dim, [-1 + np.sqrt(dx2)] * input_dim]) / np.sqrt(\n",
    "    input_dim\n",
    ")\n",
    "outputs = np.array([[0.6] * output_dim, [0.6 + np.sqrt(dy2)] * output_dim]) / np.sqrt(\n",
    "    output_dim\n",
    ")\n",
    "names = [\"A\", \"B\"]\n",
    "data = TensorDataset(\n",
    "    torch.from_numpy(inputs.astype(np.float32)).to(device),\n",
    "    torch.from_numpy(outputs.astype(np.float32)).to(device),\n",
    ")\n",
    "\n",
    "encoding = Encoding(dict(zip(names, inputs)))\n",
    "\n",
    "train_datasets = [data]\n",
    "\n",
    "tracked_datasets = train_datasets"
   ]
  },
  {
   "cell_type": "code",
   "execution_count": 5,
   "metadata": {},
   "outputs": [],
   "source": [
    "## Instantiate model\n",
    "model = model_type(\n",
    "    input_size=input_dim,\n",
    "    output_size=output_dim,\n",
    "    hidden_dim=P,\n",
    "    n_hid_layers=L,\n",
    "    device=device,\n",
    "    init_std=gain,\n",
    "    non_linearity=nonlinearity,\n",
    "    encoding=encoding,\n",
    ")"
   ]
  },
  {
   "cell_type": "code",
   "execution_count": 6,
   "metadata": {},
   "outputs": [],
   "source": [
    "## Setup compiler\n",
    "criterion = lambda x, y: 0.5 * nn.functional.mse_loss(x, y)\n",
    "optimizer = torch.optim.SGD(model.parameters(), lr=lr)\n",
    "compiler = Compiler(model, criterion, optimizer)\n",
    "compiler.trackers = {\n",
    "    \"loss\": ScalarTracker(lambda: compiler.validation(tracked_datasets)),\n",
    "    \"hidden\": ActivationTracker(\n",
    "        model, lambda inputs: model(inputs)[1][hidden_layer], datasets=tracked_datasets\n",
    "    ),\n",
    "    \"output\": ActivationTracker(\n",
    "        model, lambda inputs: model(inputs)[0], datasets=tracked_datasets\n",
    "    ),\n",
    "}"
   ]
  },
  {
   "cell_type": "code",
   "execution_count": 7,
   "metadata": {},
   "outputs": [
    {
     "name": "stderr",
     "output_type": "stream",
     "text": [
      "Training: 100%|██████████| 6000/6000 [02:09<00:00, 46.48steps/s, train_loss=0.00000, val_loss=0.00000]\n"
     ]
    }
   ],
   "source": [
    "## Training run\n",
    "compiler.training_run(\n",
    "    train_datasets,\n",
    "    n_epochs=n_epochs,\n",
    "    batch_size=100,\n",
    ")"
   ]
  },
  {
   "cell_type": "code",
   "execution_count": 8,
   "metadata": {},
   "outputs": [],
   "source": [
    "## Get data\n",
    "data_hid = compiler.trackers[\"hidden\"].get_trace()\n",
    "data_output = compiler.trackers[\"output\"].get_trace()\n",
    "\n",
    "loss = compiler.trackers[\"loss\"].get_trace().copy()\n",
    "train_loss = loss.groupby(\"Epoch\").mean()\n",
    "train_loss = train_loss.to_numpy().ravel()\n",
    "\n",
    "epochs = list(set(data_output.index.get_level_values(\"Epoch\")))\n",
    "epochs.sort()\n",
    "\n",
    "h_A = [np.array(data.loc[epoch, 0, \"A\"]) for epoch, data in data_hid.groupby(\"Epoch\")]\n",
    "h_B = [np.array(data.loc[epoch, 0, \"B\"]) for epoch, data in data_hid.groupby(\"Epoch\")]\n",
    "y_A = [\n",
    "    np.array(data.loc[epoch, 0, \"A\"]) for epoch, data in data_output.groupby(\"Epoch\")\n",
    "]\n",
    "y_B = [\n",
    "    np.array(data.loc[epoch, 0, \"B\"]) for epoch, data in data_output.groupby(\"Epoch\")\n",
    "]\n",
    "\n",
    "y_true_A, y_true_B = outputs[0], outputs[1]\n",
    "dy2 = np.sum((y_true_B - y_true_A) ** 2)\n",
    "h2 = np.array([np.sum((h_A[epoch] - h_B[epoch]) ** 2) for epoch in epochs])\n",
    "y2 = np.array([np.sum((y_A[epoch] - y_B[epoch]) ** 2) for epoch in epochs])\n",
    "w = np.array(\n",
    "    [\n",
    "        y2[epoch] - np.dot(y_true_A - y_true_B, y_A[epoch] - y_B[epoch])\n",
    "        for epoch in epochs\n",
    "    ]\n",
    ")\n",
    "y0_mean = np.sum((0.5 * ((y_A[0] + y_B[0]) - (y_true_B + y_true_A))) ** 2)\n",
    "\n",
    "h0, y0, w0, dy = h2[0], y2[0], w[0], dy2"
   ]
  },
  {
   "cell_type": "code",
   "execution_count": 35,
   "metadata": {},
   "outputs": [],
   "source": [
    "def fit(der):\n",
    "    @njit\n",
    "    def MSE_loss(t, z, eta_y_mean, dy2, y0_mean):\n",
    "        \"\"\"Mean squared loss for two datapoints.\"\"\"\n",
    "        L = (1 / 4) * (\n",
    "            2 * np.exp(-2 * t * eta_y_mean) * y0_mean + z[2] + (1 / 2) * (dy2 - z[1])\n",
    "        )\n",
    "        return L\n",
    "\n",
    "    def rep_sim(h0, y0, w0, dx2, dy2):\n",
    "        \"\"\"Return the representational distance of the two point system.\"\"\"\n",
    "        eta_h = 0.0001\n",
    "        eta_y = eta_h * 1\n",
    "\n",
    "        t_max = 100000\n",
    "\n",
    "        sol = scipy.integrate.solve_ivp(\n",
    "            der,\n",
    "            [0, t_max],\n",
    "            [h0, y0, w0],\n",
    "            args=(eta_h, eta_y, dx2, dy2),\n",
    "            dense_output=False,\n",
    "        )\n",
    "\n",
    "        z = sol.y[:, -1]\n",
    "        return z[0]\n",
    "\n",
    "    def optimize_eta(h2, y2, w, dx2, dy2, guesses=np.logspace(-6, 2, 200)):\n",
    "        \"\"\"Find the best fitting values for eta_h and eta_y.\"\"\"\n",
    "        h0, y0, w0 = h2[0], y2[0], w[0]\n",
    "        n_epochs = len(h2)\n",
    "\n",
    "        ratio = h2[-1] ** 2 / (dx2 * dy2)\n",
    "\n",
    "        def model_accuracy(pars):\n",
    "            eta_h, eta_y = pars\n",
    "\n",
    "            t_max = n_epochs\n",
    "\n",
    "            sol = scipy.integrate.solve_ivp(\n",
    "                der,\n",
    "                [0, t_max],\n",
    "                [h0, y0, w0],\n",
    "                args=(eta_h, eta_y, dx2, dy2),\n",
    "                dense_output=True,\n",
    "                method=\"Radau\",\n",
    "            )\n",
    "\n",
    "            t = np.linspace(0, t_max, n_epochs)\n",
    "            z = sol.sol(t)\n",
    "\n",
    "            loss = (\n",
    "                np.sum((h2 - z[0]) ** 2)\n",
    "                + np.sum((y2 - z[1]) ** 2)\n",
    "                + np.sum((w - z[2]) ** 2)\n",
    "            )\n",
    "            return loss\n",
    "\n",
    "        # Find optimal etas\n",
    "        guess = guesses[\n",
    "            np.argmin(\n",
    "                [model_accuracy(guess * np.array([ratio, 1])) for guess in guesses]\n",
    "            )\n",
    "        ]\n",
    "        optimal = scipy.optimize.minimize(model_accuracy, guess * np.array([ratio, 1]))\n",
    "        loss = optimal.fun\n",
    "        eta_h_opt, eta_y_opt = optimal.x\n",
    "\n",
    "        print(f\"Loss: {loss}\")\n",
    "\n",
    "        return (eta_h_opt, eta_y_opt, loss)\n",
    "\n",
    "    ## Fit effective learning rates\n",
    "    eta_h_opt, eta_y_opt, loss = optimize_eta(\n",
    "        h2, y2, w, dx2, dy2, guesses=np.logspace(-6, 2, 100)\n",
    "    )\n",
    "\n",
    "    sol = scipy.integrate.solve_ivp(\n",
    "        der,\n",
    "        [0, len(epochs)],\n",
    "        [h0, y0, w0],\n",
    "        args=(eta_h_opt, eta_y_opt, dx2, dy2),\n",
    "        dense_output=True,\n",
    "    )\n",
    "    t = np.linspace(0, len(epochs), len(epochs))\n",
    "    z = sol.sol(t)\n",
    "\n",
    "    return t, z"
   ]
  },
  {
   "cell_type": "code",
   "execution_count": 36,
   "metadata": {},
   "outputs": [],
   "source": [
    "@njit\n",
    "def eff_theory(t, z, eta_h, eta_y, dx2, dy2):\n",
    "    \"\"\"Right hand side of the 3d ode system.\"\"\"\n",
    "    h, y, w = z\n",
    "    return [\n",
    "        -eta_h * dx2 * w,\n",
    "        -w * (eta_y * h + eta_h * dx2 * y / h),\n",
    "        -(1 / 2) * eta_y * (3 * w - y + dy2) * h\n",
    "        - (1 / 2) * eta_h * dx2 * (y + w) * w / h,\n",
    "    ]\n",
    "\n",
    "\n",
    "@njit\n",
    "def alt_1(t, z, eta_h, eta_y, dx2, dy2):\n",
    "    \"\"\"Right hand side of the 3d ode system.\"\"\"\n",
    "    h, y, w = z\n",
    "    return [\n",
    "        -eta_h * dx2 * w,\n",
    "        -2 * w * (eta_y * h + eta_h * dx2 * y / h),\n",
    "        -(1 / 2) * eta_y * (3 * w - y + dy2) * h\n",
    "        - (1 / 2) * eta_h * dx2 * (y + w) * w / h,\n",
    "    ]\n",
    "\n",
    "\n",
    "@njit\n",
    "def alt_2(t, z, eta_h, eta_y, dx2, dy2):\n",
    "    \"\"\"Right hand side of the 3d ode system.\"\"\"\n",
    "    h, y, w = z\n",
    "    return [\n",
    "        -eta_h * dx2 * w * 2,\n",
    "        -w * (eta_y * h + eta_h * dx2 * y / h),\n",
    "        -(1 / 2) * eta_y * (3 * w - y + dy2) * h\n",
    "        - (1 / 2) * eta_h * dx2 * (y + w) * w / h,\n",
    "    ]\n",
    "\n",
    "\n",
    "@njit\n",
    "def alt_3(t, z, eta_h, eta_y, dx2, dy2):\n",
    "    \"\"\"Right hand side of the 3d ode system.\"\"\"\n",
    "    h, y, w = z\n",
    "    return [\n",
    "        -eta_h * dx2 * w,\n",
    "        -w * (eta_y * h + eta_h * dx2 * y / h),\n",
    "        -(1 / 2) * eta_y * (3 * w - y + dy2) * h\n",
    "        + (1 / 2) * eta_h * dx2 * (y + w) * w / h,\n",
    "    ]\n",
    "\n",
    "\n",
    "@njit\n",
    "def alt_4(t, z, eta_h, eta_y, dx2, dy2):\n",
    "    \"\"\"Right hand side of the 3d ode system.\"\"\"\n",
    "    h, y, w = z\n",
    "    return [\n",
    "        -eta_h * dx2 * w,\n",
    "        -w * (eta_y * h),\n",
    "        -(1 / 2) * eta_y * (3 * w - y + dy2) * h\n",
    "        - (1 / 2) * eta_h * dx2 * (y + w) * w / h,\n",
    "    ]\n",
    "\n",
    "\n",
    "alternative_dynamics = [eff_theory, alt_1, alt_2, alt_3, alt_4]"
   ]
  },
  {
   "cell_type": "code",
   "execution_count": 38,
   "metadata": {},
   "outputs": [
    {
     "name": "stdout",
     "output_type": "stream",
     "text": [
      "Loss: 0.9289631502356435\n"
     ]
    },
    {
     "data": {
      "image/png": "[encoded data removed]",
      "text/plain": [
       "<Figure size 300x200 with 1 Axes>"
      ]
     },
     "metadata": {},
     "output_type": "display_data"
    },
    {
     "name": "stdout",
     "output_type": "stream",
     "text": [
      "Loss: 15.349683504371166\n"
     ]
    },
    {
     "data": {
      "image/png": "[encoded data removed]",
      "text/plain": [
       "<Figure size 300x200 with 1 Axes>"
      ]
     },
     "metadata": {},
     "output_type": "display_data"
    },
    {
     "name": "stdout",
     "output_type": "stream",
     "text": [
      "Loss: 16.611870165578765\n"
     ]
    },
    {
     "data": {
      "image/png": "[encoded data removed]",
      "text/plain": [
       "<Figure size 300x200 with 1 Axes>"
      ]
     },
     "metadata": {},
     "output_type": "display_data"
    },
    {
     "name": "stdout",
     "output_type": "stream",
     "text": [
      "Loss: 2.9902842889995664\n"
     ]
    },
    {
     "data": {
      "image/png": "[encoded data removed]",
      "text/plain": [
       "<Figure size 300x200 with 1 Axes>"
      ]
     },
     "metadata": {},
     "output_type": "display_data"
    },
    {
     "name": "stdout",
     "output_type": "stream",
     "text": [
      "Loss: 5.637705423852344\n"
     ]
    },
    {
     "data": {
      "image/png": "[encoded data removed]",
      "text/plain": [
       "<Figure size 300x200 with 1 Axes>"
      ]
     },
     "metadata": {},
     "output_type": "display_data"
    }
   ],
   "source": [
    "for dynamics in alternative_dynamics:\n",
    "\n",
    "    t, z = fit(dynamics)\n",
    "\n",
    "    traj_path = \"plots/2_points/trajectories/\"\n",
    "\n",
    "    publication.set_color_mixed()\n",
    "    figsize = (4, 3)\n",
    "\n",
    "    # Plot 3-d dynamical system\n",
    "    fig, ax = plt.subplots(figsize=figsize)\n",
    "    plt.plot(t, z[0], linestyle=\"--\")\n",
    "    plt.plot(t, z[1], linestyle=\"--\")\n",
    "    plt.plot(t, z[2], linestyle=\"--\")\n",
    "    plt.gca().set_prop_cycle(None)\n",
    "    ax.plot(t, h2, label=\"$||dh||^2$\")\n",
    "    ax.plot(t, y2, label=\"$||dy||^2$\")\n",
    "    ax.plot(t, w, label=\"$w$\")\n",
    "    # ax.legend()\n",
    "    plt.xlabel(\"Epochs\")\n",
    "    if save:\n",
    "        publication.plt_show(save_path=traj_path + \"ode/\" + settings + \".png\")\n",
    "    else:\n",
    "        publication.plt_show()"
   ]
  }
 ],
 "metadata": {
  "kernelspec": {
   "display_name": "Python 3.10.6 ('rnn')",
   "language": "python",
   "name": "python3"
  },
  "language_info": {
   "codemirror_mode": {
    "name": "ipython",
    "version": 3
   },
   "file_extension": ".py",
   "mimetype": "text/x-python",
   "name": "python",
   "nbconvert_exporter": "python",
   "pygments_lexer": "ipython3",
   "version": "3.10.13"
  },
  "orig_nbformat": 4,
  "vscode": {
   "interpreter": {
    "hash": "e02af9847f8f14625728f2f7147d07d87bda9043f1b0a8cf0822fa7c64756065"
   }
  }
 },
 "nbformat": 4,
 "nbformat_minor": 2
}
