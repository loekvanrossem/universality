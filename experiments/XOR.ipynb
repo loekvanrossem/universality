{
 "cells": [
  {
   "cell_type": "code",
   "execution_count": 1,
   "metadata": {},
   "outputs": [
    {
     "name": "stderr",
     "output_type": "stream",
     "text": [
      "/tmp/ipykernel_5787/2994879332.py:5: DeprecationWarning: \n",
      "Pyarrow will become a required dependency of pandas in the next major release of pandas (pandas 3.0),\n",
      "(to allow more performant data types, such as the Arrow string type, and better interoperability with other libraries)\n",
      "but was not found to be installed on your system.\n",
      "If this would cause problems for you,\n",
      "please provide us feedback at https://github.com/pandas-dev/pandas/issues/54466\n",
      "        \n",
      "  import pandas as pd\n"
     ]
    }
   ],
   "source": [
    "import sys\n",
    "\n",
    "import numpy as np\n",
    "import matplotlib.pyplot as plt\n",
    "import pandas as pd\n",
    "import scipy\n",
    "\n",
    "import torch\n",
    "from torch import nn\n",
    "from torch.utils.data import TensorDataset\n",
    "\n",
    "source = \"../source\"\n",
    "sys.path.append(source)\n",
    "\n",
    "from preprocessing import Direct\n",
    "from compilation import Compiler, ScalarTracker, ActivationTracker\n",
    "import publication\n",
    "import models\n",
    "\n",
    "device = torch.device(\"cpu\")\n",
    "\n",
    "plot_path = \"plots/XOR/\"\n",
    "save = True"
   ]
  },
  {
   "cell_type": "code",
   "execution_count": 2,
   "metadata": {},
   "outputs": [],
   "source": [
    "## Load settings\n",
    "setting = \"rich\"\n",
    "\n",
    "(\n",
    "    model_type,\n",
    "    nonlinearity,\n",
    "    gain,\n",
    "    lr,\n",
    "    P,\n",
    "    L,\n",
    "    n_epochs,\n",
    "    hidden_layer,\n",
    "    dx2,\n",
    "    dy2,\n",
    "    in_dim,\n",
    "    out_dim,\n",
    ") = (\n",
    "    pd.read_csv(\"model_settings/XOR.txt\", sep=\" \", header=0).loc[setting].to_numpy()\n",
    ")\n",
    "model_type = getattr(models, model_type)\n",
    "\n",
    "if nonlinearity == \"none\":\n",
    "    nonlinearity = None\n",
    "else:\n",
    "    nonlinearity = getattr(torch.nn.functional, nonlinearity)"
   ]
  },
  {
   "cell_type": "code",
   "execution_count": 3,
   "metadata": {},
   "outputs": [],
   "source": [
    "## Generate data\n",
    "inputs = np.array([[0, 0], [0, 1], [1, 0], [1, 1]])\n",
    "outputs = np.array([[0], [1], [1], [0]])\n",
    "\n",
    "outputs = torch.from_numpy(outputs.astype(np.float32)).to(device)\n",
    "inputs = torch.from_numpy(inputs.astype(np.float32)).to(device)\n",
    "\n",
    "input_labels = [(int(x[0].item()), int(x[1].item())) for x in inputs]\n",
    "\n",
    "encoding = Direct()\n",
    "\n",
    "dataset = TensorDataset(inputs, outputs)\n",
    "train_datasets = [dataset]\n",
    "val_dataset = [dataset]\n",
    "\n",
    "tracked_datasets = val_dataset + train_datasets"
   ]
  },
  {
   "cell_type": "code",
   "execution_count": 4,
   "metadata": {},
   "outputs": [],
   "source": [
    "## Load fitted effective learing rates\n",
    "etas_h = np.load(\"./plots/2_points/comparisons/etas_h.pkl\", allow_pickle=True)\n",
    "etas_y = np.load(\"./plots/2_points/comparisons/etas_y.pkl\", allow_pickle=True)\n",
    "eta_h = np.mean(etas_h[\"default\"])\n",
    "eta_y = np.mean(etas_y[\"default\"])\n",
    "\n",
    "# Run rich_structure.ipynb first!\n",
    "# This script uses the effective learning rates computed there"
   ]
  },
  {
   "cell_type": "code",
   "execution_count": 5,
   "metadata": {},
   "outputs": [],
   "source": [
    "## Instantiate model\n",
    "model = model_type(\n",
    "    encoding=encoding,\n",
    "    input_size=inputs.shape[1],\n",
    "    output_size=outputs.shape[1],\n",
    "    hidden_dim=P,\n",
    "    n_hid_layers=L,\n",
    "    device=device,\n",
    "    init_std=gain,\n",
    "    non_linearity=torch.nn.functional.relu,\n",
    ")"
   ]
  },
  {
   "cell_type": "code",
   "execution_count": 6,
   "metadata": {},
   "outputs": [
    {
     "name": "stderr",
     "output_type": "stream",
     "text": [
      "/tmp/ipykernel_5787/1021976843.py:12: RuntimeWarning: invalid value encountered in divide\n",
      "  (dist_h_0 / dist_x) ** 2 - (dist_y_0 / dist_h_0) ** 2 * eta_h / eta_y\n"
     ]
    },
    {
     "data": {
      "image/png": "[encoded data removed]",
      "text/plain": [
       "<Figure size 250x250 with 2 Axes>"
      ]
     },
     "metadata": {},
     "output_type": "display_data"
    }
   ],
   "source": [
    "## Plot theory\n",
    "h_0 = [model(input)[1][hidden_layer].detach().numpy() for input in inputs]\n",
    "y_0 = [model(input)[0].detach().numpy() for input in inputs]\n",
    "\n",
    "dist_x = scipy.spatial.distance_matrix(inputs, inputs)\n",
    "dist_y = scipy.spatial.distance_matrix(outputs, outputs)\n",
    "dist_h_0 = scipy.spatial.distance_matrix(h_0, h_0)\n",
    "dist_y_0 = scipy.spatial.distance_matrix(y_0, y_0)\n",
    "\n",
    "A_low = np.sqrt(eta_h / eta_y) * dist_y * dist_x\n",
    "A_high = (\n",
    "    (dist_h_0 / dist_x) ** 2 - (dist_y_0 / dist_h_0) ** 2 * eta_h / eta_y\n",
    ") * dist_x**2\n",
    "h_final = np.sqrt(0.5 * (A_high + np.sqrt(A_high**2 + 4 * A_low**2)))\n",
    "np.fill_diagonal(h_final, 0)\n",
    "\n",
    "publication.set_color_gradient(index=2)\n",
    "figsize = 2.5 * np.array([1, 1])\n",
    "fig = plt.figure(figsize=figsize)\n",
    "\n",
    "plt.imshow(h_final)\n",
    "if save:\n",
    "    publication.im_show(\n",
    "        x_labels=input_labels,\n",
    "        y_labels=input_labels,\n",
    "        save_path=plot_path + setting + \"_theory\",\n",
    "    )\n",
    "else:\n",
    "    publication.im_show(x_labels=input_labels, y_labels=input_labels)"
   ]
  },
  {
   "cell_type": "code",
   "execution_count": 7,
   "metadata": {},
   "outputs": [],
   "source": [
    "## Setup compiler\n",
    "criterion = nn.MSELoss()\n",
    "optimizer = torch.optim.SGD(model.parameters(), lr=lr)\n",
    "compiler = Compiler(model, criterion, optimizer)\n",
    "compiler.trackers = {\n",
    "    \"loss\": ScalarTracker(lambda: compiler.validation(tracked_datasets)),\n",
    "    \"hidden\": ActivationTracker(\n",
    "        model,\n",
    "        lambda inputs: model(inputs)[1][hidden_layer],\n",
    "        datasets=val_dataset,\n",
    "    ),\n",
    "    \"output\": ActivationTracker(\n",
    "        model, lambda inputs: model(inputs)[0], datasets=val_dataset\n",
    "    ),\n",
    "}"
   ]
  },
  {
   "cell_type": "code",
   "execution_count": 8,
   "metadata": {},
   "outputs": [
    {
     "name": "stderr",
     "output_type": "stream",
     "text": [
      "Training: 100%|██████████| 1000/1000 [00:29<00:00, 34.12steps/s, train_loss=0.00000, val_loss=0.00000]\n"
     ]
    }
   ],
   "source": [
    "## Training run\n",
    "compiler.training_run(\n",
    "    train_datasets, tracked_datasets, n_epochs=n_epochs, batch_size=100\n",
    ")"
   ]
  },
  {
   "cell_type": "code",
   "execution_count": 9,
   "metadata": {},
   "outputs": [
    {
     "data": {
      "image/png": "[encoded data removed]",
      "text/plain": [
       "<Figure size 250x250 with 2 Axes>"
      ]
     },
     "metadata": {},
     "output_type": "display_data"
    }
   ],
   "source": [
    "## Plot experiment\n",
    "publication.set_color_gradient(index=2)\n",
    "figsize = np.array([2.5, 2.5])\n",
    "\n",
    "fig = plt.figure(figsize=figsize)\n",
    "\n",
    "data_hid = compiler.trackers[\"hidden\"].get_trace()\n",
    "data_output = compiler.trackers[\"output\"].get_trace()\n",
    "final_epoch = data_hid.index.get_level_values(\"Epoch\")[-1]\n",
    "h = data_hid.query(f\"Epoch=={final_epoch}\")\n",
    "dist_h = scipy.spatial.distance_matrix(h, h)\n",
    "\n",
    "plt.imshow(dist_h)\n",
    "\n",
    "if save:\n",
    "    publication.im_show(\n",
    "        x_labels=input_labels, y_labels=input_labels, save_path=plot_path + setting\n",
    "    )\n",
    "else:\n",
    "    publication.im_show(x_labels=input_labels, y_labels=input_labels)"
   ]
  }
 ],
 "metadata": {
  "kernelspec": {
   "display_name": "Python 3.10.6 ('rnn')",
   "language": "python",
   "name": "python3"
  },
  "language_info": {
   "codemirror_mode": {
    "name": "ipython",
    "version": 3
   },
   "file_extension": ".py",
   "mimetype": "text/x-python",
   "name": "python",
   "nbconvert_exporter": "python",
   "pygments_lexer": "ipython3",
   "version": "3.10.13"
  },
  "orig_nbformat": 4,
  "vscode": {
   "interpreter": {
    "hash": "e02af9847f8f14625728f2f7147d07d87bda9043f1b0a8cf0822fa7c64756065"
   }
  }
 },
 "nbformat": 4,
 "nbformat_minor": 2
}
