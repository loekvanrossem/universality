{
 "cells": [
  {
   "cell_type": "code",
   "execution_count": 1,
   "metadata": {},
   "outputs": [],
   "source": [
    "import sys\n",
    "\n",
    "import numpy as np\n",
    "import matplotlib.pyplot as plt\n",
    "import pandas as pd\n",
    "import scipy\n",
    "\n",
    "import torch\n",
    "from torch import nn\n",
    "from torch.utils.data import TensorDataset\n",
    "\n",
    "source = \"../source\"\n",
    "sys.path.append(source)\n",
    "\n",
    "from preprocessing import Direct\n",
    "from compilation import Compiler, ScalarTracker, ActivationTracker\n",
    "import publication\n",
    "import models\n",
    "\n",
    "device = torch.device(\"cpu\")\n",
    "\n",
    "plot_path = \"plots/XOR/\"\n",
    "save = True"
   ]
  },
  {
   "cell_type": "code",
   "execution_count": 2,
   "metadata": {},
   "outputs": [],
   "source": [
    "## Load settings\n",
    "setting = \"rich\"\n",
    "\n",
    "(\n",
    "    model_type,\n",
    "    nonlinearity,\n",
    "    gain,\n",
    "    lr,\n",
    "    P,\n",
    "    L,\n",
    "    n_epochs,\n",
    "    hidden_layer,\n",
    "    dx2,\n",
    "    dy2,\n",
    "    in_dim,\n",
    "    out_dim,\n",
    ") = (\n",
    "    pd.read_csv(\"model_settings/XOR.txt\", sep=\" \", header=0).loc[setting].to_numpy()\n",
    ")\n",
    "model_type = getattr(models, model_type)\n",
    "\n",
    "if nonlinearity == \"none\":\n",
    "    nonlinearity = None\n",
    "else:\n",
    "    nonlinearity = getattr(torch.nn.functional, nonlinearity)"
   ]
  },
  {
   "cell_type": "code",
   "execution_count": 3,
   "metadata": {},
   "outputs": [],
   "source": [
    "## Generate data\n",
    "inputs = np.array([[0, 0], [0, 1], [1, 0], [1, 1]])\n",
    "outputs = np.array([[0], [1], [1], [0]])\n",
    "\n",
    "outputs = torch.from_numpy(outputs.astype(np.float32)).to(device)\n",
    "inputs = torch.from_numpy(inputs.astype(np.float32)).to(device)\n",
    "\n",
    "input_labels = [(int(x[0].item()), int(x[1].item())) for x in inputs]\n",
    "\n",
    "encoding = Direct()\n",
    "\n",
    "dataset = TensorDataset(inputs, outputs)\n",
    "train_datasets = [dataset]\n",
    "val_dataset = [dataset]\n",
    "\n",
    "tracked_datasets = val_dataset + train_datasets"
   ]
  },
  {
   "cell_type": "code",
   "execution_count": 4,
   "metadata": {},
   "outputs": [
    {
     "ename": "FileNotFoundError",
     "evalue": "[Errno 2] No such file or directory: './plots/2_points/comparisons/etas_h.pkl'",
     "output_type": "error",
     "traceback": [
      "\u001b[0;31m---------------------------------------------------------------------------\u001b[0m",
      "\u001b[0;31mFileNotFoundError\u001b[0m                         Traceback (most recent call last)",
      "Cell \u001b[0;32mIn[4], line 2\u001b[0m\n\u001b[1;32m      1\u001b[0m \u001b[38;5;66;03m## Load fitted effective learing rates\u001b[39;00m\n\u001b[0;32m----> 2\u001b[0m etas_h \u001b[38;5;241m=\u001b[39m \u001b[43mnp\u001b[49m\u001b[38;5;241;43m.\u001b[39;49m\u001b[43mload\u001b[49m\u001b[43m(\u001b[49m\u001b[38;5;124;43m\"\u001b[39;49m\u001b[38;5;124;43m./plots/2_points/comparisons/etas_h.pkl\u001b[39;49m\u001b[38;5;124;43m\"\u001b[39;49m\u001b[43m,\u001b[49m\u001b[43m \u001b[49m\u001b[43mallow_pickle\u001b[49m\u001b[38;5;241;43m=\u001b[39;49m\u001b[38;5;28;43;01mTrue\u001b[39;49;00m\u001b[43m)\u001b[49m\n\u001b[1;32m      3\u001b[0m etas_y \u001b[38;5;241m=\u001b[39m np\u001b[38;5;241m.\u001b[39mload(\u001b[38;5;124m\"\u001b[39m\u001b[38;5;124m./plots/2_points/comparisons/etas_y.pkl\u001b[39m\u001b[38;5;124m\"\u001b[39m, allow_pickle\u001b[38;5;241m=\u001b[39m\u001b[38;5;28;01mTrue\u001b[39;00m)\n\u001b[1;32m      4\u001b[0m eta_h \u001b[38;5;241m=\u001b[39m np\u001b[38;5;241m.\u001b[39mmean(etas_h[\u001b[38;5;124m\"\u001b[39m\u001b[38;5;124mdefault\u001b[39m\u001b[38;5;124m\"\u001b[39m])\n",
      "File \u001b[0;32m~/miniconda3/envs/rnn/lib/python3.10/site-packages/numpy/lib/npyio.py:427\u001b[0m, in \u001b[0;36mload\u001b[0;34m(file, mmap_mode, allow_pickle, fix_imports, encoding, max_header_size)\u001b[0m\n\u001b[1;32m    425\u001b[0m     own_fid \u001b[38;5;241m=\u001b[39m \u001b[38;5;28;01mFalse\u001b[39;00m\n\u001b[1;32m    426\u001b[0m \u001b[38;5;28;01melse\u001b[39;00m:\n\u001b[0;32m--> 427\u001b[0m     fid \u001b[38;5;241m=\u001b[39m stack\u001b[38;5;241m.\u001b[39menter_context(\u001b[38;5;28;43mopen\u001b[39;49m\u001b[43m(\u001b[49m\u001b[43mos_fspath\u001b[49m\u001b[43m(\u001b[49m\u001b[43mfile\u001b[49m\u001b[43m)\u001b[49m\u001b[43m,\u001b[49m\u001b[43m \u001b[49m\u001b[38;5;124;43m\"\u001b[39;49m\u001b[38;5;124;43mrb\u001b[39;49m\u001b[38;5;124;43m\"\u001b[39;49m\u001b[43m)\u001b[49m)\n\u001b[1;32m    428\u001b[0m     own_fid \u001b[38;5;241m=\u001b[39m \u001b[38;5;28;01mTrue\u001b[39;00m\n\u001b[1;32m    430\u001b[0m \u001b[38;5;66;03m# Code to distinguish from NumPy binary files and pickles.\u001b[39;00m\n",
      "\u001b[0;31mFileNotFoundError\u001b[0m: [Errno 2] No such file or directory: './plots/2_points/comparisons/etas_h.pkl'"
     ]
    }
   ],
   "source": [
    "## Load fitted effective learing rates\n",
    "etas_h = np.load(\"./plots/2_points/comparisons/etas_h.pkl\", allow_pickle=True)\n",
    "etas_y = np.load(\"./plots/2_points/comparisons/etas_y.pkl\", allow_pickle=True)\n",
    "eta_h = np.mean(etas_h[\"default\"])\n",
    "eta_y = np.mean(etas_y[\"default\"])\n",
    "\n",
    "# Run rich_structure.ipynb first!\n",
    "# This script uses the effective learning rates computed there"
   ]
  },
  {
   "cell_type": "code",
   "execution_count": 5,
   "metadata": {},
   "outputs": [],
   "source": [
    "## Instantiate model\n",
    "model = model_type(\n",
    "    encoding=encoding,\n",
    "    input_size=inputs.shape[1],\n",
    "    output_size=outputs.shape[1],\n",
    "    hidden_dim=P,\n",
    "    n_hid_layers=L,\n",
    "    device=device,\n",
    "    init_std=gain,\n",
    "    non_linearity=torch.nn.functional.relu,\n",
    ")"
   ]
  },
  {
   "cell_type": "code",
   "execution_count": 6,
   "metadata": {},
   "outputs": [
    {
     "ename": "NameError",
     "evalue": "name 'eta_h' is not defined",
     "output_type": "error",
     "traceback": [
      "\u001b[0;31m---------------------------------------------------------------------------\u001b[0m",
      "\u001b[0;31mNameError\u001b[0m                                 Traceback (most recent call last)",
      "Cell \u001b[0;32mIn[6], line 10\u001b[0m\n\u001b[1;32m      7\u001b[0m dist_h_0 \u001b[38;5;241m=\u001b[39m scipy\u001b[38;5;241m.\u001b[39mspatial\u001b[38;5;241m.\u001b[39mdistance_matrix(h_0, h_0)\n\u001b[1;32m      8\u001b[0m dist_y_0 \u001b[38;5;241m=\u001b[39m scipy\u001b[38;5;241m.\u001b[39mspatial\u001b[38;5;241m.\u001b[39mdistance_matrix(y_0, y_0)\n\u001b[0;32m---> 10\u001b[0m A_low \u001b[38;5;241m=\u001b[39m np\u001b[38;5;241m.\u001b[39msqrt(\u001b[43meta_h\u001b[49m \u001b[38;5;241m/\u001b[39m eta_y) \u001b[38;5;241m*\u001b[39m dist_y \u001b[38;5;241m*\u001b[39m dist_x\n\u001b[1;32m     11\u001b[0m A_high \u001b[38;5;241m=\u001b[39m (\n\u001b[1;32m     12\u001b[0m     (dist_h_0 \u001b[38;5;241m/\u001b[39m dist_x) \u001b[38;5;241m*\u001b[39m\u001b[38;5;241m*\u001b[39m \u001b[38;5;241m2\u001b[39m \u001b[38;5;241m-\u001b[39m (dist_y_0 \u001b[38;5;241m/\u001b[39m dist_h_0) \u001b[38;5;241m*\u001b[39m\u001b[38;5;241m*\u001b[39m \u001b[38;5;241m2\u001b[39m \u001b[38;5;241m*\u001b[39m eta_h \u001b[38;5;241m/\u001b[39m eta_y\n\u001b[1;32m     13\u001b[0m ) \u001b[38;5;241m*\u001b[39m dist_x\u001b[38;5;241m*\u001b[39m\u001b[38;5;241m*\u001b[39m\u001b[38;5;241m2\u001b[39m\n\u001b[1;32m     14\u001b[0m h_final \u001b[38;5;241m=\u001b[39m np\u001b[38;5;241m.\u001b[39msqrt(\u001b[38;5;241m0.5\u001b[39m \u001b[38;5;241m*\u001b[39m (A_high \u001b[38;5;241m+\u001b[39m np\u001b[38;5;241m.\u001b[39msqrt(A_high\u001b[38;5;241m*\u001b[39m\u001b[38;5;241m*\u001b[39m\u001b[38;5;241m2\u001b[39m \u001b[38;5;241m+\u001b[39m \u001b[38;5;241m4\u001b[39m \u001b[38;5;241m*\u001b[39m A_low\u001b[38;5;241m*\u001b[39m\u001b[38;5;241m*\u001b[39m\u001b[38;5;241m2\u001b[39m)))\n",
      "\u001b[0;31mNameError\u001b[0m: name 'eta_h' is not defined"
     ]
    }
   ],
   "source": [
    "## Plot theory\n",
    "h_0 = [model(input)[1][hidden_layer].detach().numpy() for input in inputs]\n",
    "y_0 = [model(input)[0].detach().numpy() for input in inputs]\n",
    "\n",
    "dist_x = scipy.spatial.distance_matrix(inputs, inputs)\n",
    "dist_y = scipy.spatial.distance_matrix(outputs, outputs)\n",
    "dist_h_0 = scipy.spatial.distance_matrix(h_0, h_0)\n",
    "dist_y_0 = scipy.spatial.distance_matrix(y_0, y_0)\n",
    "\n",
    "A_low = np.sqrt(eta_h / eta_y) * dist_y * dist_x\n",
    "A_high = (\n",
    "    (dist_h_0 / dist_x) ** 2 - (dist_y_0 / dist_h_0) ** 2 * eta_h / eta_y\n",
    ") * dist_x**2\n",
    "h_final = np.sqrt(0.5 * (A_high + np.sqrt(A_high**2 + 4 * A_low**2)))\n",
    "np.fill_diagonal(h_final, 0)\n",
    "\n",
    "publication.set_color_gradient(index=2)\n",
    "figsize = 2.5 * np.array([1, 1])\n",
    "fig = plt.figure(figsize=figsize)\n",
    "\n",
    "plt.imshow(h_final)\n",
    "if save:\n",
    "    publication.im_show(\n",
    "        x_labels=input_labels,\n",
    "        y_labels=input_labels,\n",
    "        save_path=plot_path + setting + \"_theory\",\n",
    "    )\n",
    "else:\n",
    "    publication.im_show(x_labels=input_labels, y_labels=input_labels)"
   ]
  },
  {
   "cell_type": "code",
   "execution_count": null,
   "metadata": {},
   "outputs": [],
   "source": [
    "## Setup compiler\n",
    "criterion = nn.MSELoss()\n",
    "optimizer = torch.optim.SGD(model.parameters(), lr=lr)\n",
    "compiler = Compiler(model, criterion, optimizer)\n",
    "compiler.trackers = {\n",
    "    \"loss\": ScalarTracker(lambda: compiler.validation(tracked_datasets)),\n",
    "    \"hidden\": ActivationTracker(\n",
    "        model,\n",
    "        lambda inputs: model(inputs)[1][hidden_layer],\n",
    "        datasets=val_dataset,\n",
    "    ),\n",
    "    \"output\": ActivationTracker(\n",
    "        model, lambda inputs: model(inputs)[0], datasets=val_dataset\n",
    "    ),\n",
    "}"
   ]
  },
  {
   "cell_type": "code",
   "execution_count": null,
   "metadata": {},
   "outputs": [
    {
     "name": "stderr",
     "output_type": "stream",
     "text": [
      "Training: 100%|██████████| 1000/1000 [00:29<00:00, 34.12steps/s, train_loss=0.00000, val_loss=0.00000]\n"
     ]
    }
   ],
   "source": [
    "## Training run\n",
    "compiler.training_run(train_datasets, n_epochs=n_epochs, batch_size=100)"
   ]
  },
  {
   "cell_type": "code",
   "execution_count": null,
   "metadata": {},
   "outputs": [
    {
     "data": {
      "image/png": "[encoded data removed]",
      "text/plain": [
       "<Figure size 250x250 with 2 Axes>"
      ]
     },
     "metadata": {},
     "output_type": "display_data"
    }
   ],
   "source": [
    "## Plot experiment\n",
    "publication.set_color_gradient(index=2)\n",
    "figsize = np.array([2.5, 2.5])\n",
    "\n",
    "fig = plt.figure(figsize=figsize)\n",
    "\n",
    "data_hid = compiler.trackers[\"hidden\"].get_trace()\n",
    "data_output = compiler.trackers[\"output\"].get_trace()\n",
    "final_epoch = data_hid.index.get_level_values(\"Epoch\")[-1]\n",
    "h = data_hid.query(f\"Epoch=={final_epoch}\")\n",
    "dist_h = scipy.spatial.distance_matrix(h, h)\n",
    "\n",
    "plt.imshow(dist_h)\n",
    "\n",
    "if save:\n",
    "    publication.im_show(\n",
    "        x_labels=input_labels, y_labels=input_labels, save_path=plot_path + setting\n",
    "    )\n",
    "else:\n",
    "    publication.im_show(x_labels=input_labels, y_labels=input_labels)"
   ]
  }
 ],
 "metadata": {
  "kernelspec": {
   "display_name": "Python 3.10.6 ('rnn')",
   "language": "python",
   "name": "python3"
  },
  "language_info": {
   "codemirror_mode": {
    "name": "ipython",
    "version": 3
   },
   "file_extension": ".py",
   "mimetype": "text/x-python",
   "name": "python",
   "nbconvert_exporter": "python",
   "pygments_lexer": "ipython3",
   "version": "3.10.13"
  },
  "orig_nbformat": 4,
  "vscode": {
   "interpreter": {
    "hash": "e02af9847f8f14625728f2f7147d07d87bda9043f1b0a8cf0822fa7c64756065"
   }
  }
 },
 "nbformat": 4,
 "nbformat_minor": 2
}
