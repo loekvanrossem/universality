{
 "cells": [
  {
   "cell_type": "code",
   "execution_count": 1,
   "metadata": {},
   "outputs": [
    {
     "name": "stderr",
     "output_type": "stream",
     "text": [
      "/tmp/ipykernel_26878/2707119847.py:6: DeprecationWarning: \n",
      "Pyarrow will become a required dependency of pandas in the next major release of pandas (pandas 3.0),\n",
      "(to allow more performant data types, such as the Arrow string type, and better interoperability with other libraries)\n",
      "but was not found to be installed on your system.\n",
      "If this would cause problems for you,\n",
      "please provide us feedback at https://github.com/pandas-dev/pandas/issues/54466\n",
      "        \n",
      "  import pandas as pd\n"
     ]
    }
   ],
   "source": [
    "## Import libraries\n",
    "import sys\n",
    "\n",
    "import numpy as np\n",
    "import matplotlib.pyplot as plt\n",
    "import pandas as pd\n",
    "import scipy\n",
    "\n",
    "import torch\n",
    "from torch import nn\n",
    "from torch.utils.data import TensorDataset\n",
    "\n",
    "source = \"../source\"\n",
    "sys.path.append(source)\n",
    "\n",
    "from preprocessing import Encoding\n",
    "from compilation import Compiler, ScalarTracker, ActivationTracker\n",
    "import publication\n",
    "import simulate\n",
    "import models\n",
    "\n",
    "device = torch.device(\"cpu\")\n",
    "\n",
    "save = True"
   ]
  },
  {
   "cell_type": "code",
   "execution_count": 2,
   "metadata": {},
   "outputs": [],
   "source": [
    "## Load settings\n",
    "settings = \"default\"\n",
    "\n",
    "(\n",
    "    model_type,\n",
    "    nonlinearity,\n",
    "    gain,\n",
    "    lr,\n",
    "    P,\n",
    "    L,\n",
    "    n_epochs,\n",
    "    hidden_layer,\n",
    "    dx2,\n",
    "    dy2,\n",
    "    in_dim,\n",
    "    out_dim,\n",
    ") = (\n",
    "    pd.read_csv(\"model_settings/2 points.txt\", sep=\" \", header=0)\n",
    "    .loc[settings]\n",
    "    .to_numpy()\n",
    ")\n",
    "model_type = getattr(models, model_type)\n",
    "\n",
    "if nonlinearity == \"none\":\n",
    "    nonlinearity = None\n",
    "else:\n",
    "    nonlinearity = getattr(torch.nn.functional, nonlinearity)"
   ]
  },
  {
   "cell_type": "code",
   "execution_count": 3,
   "metadata": {},
   "outputs": [],
   "source": [
    "lr = lr / 2\n",
    "n_epochs = n_epochs * 2"
   ]
  },
  {
   "cell_type": "code",
   "execution_count": 4,
   "metadata": {},
   "outputs": [],
   "source": [
    "## Generate data\n",
    "input_dim, output_dim = in_dim, out_dim\n",
    "\n",
    "inputs = np.array([[-1] * input_dim, [-1 + np.sqrt(dx2)] * input_dim]) / np.sqrt(\n",
    "    input_dim\n",
    ")\n",
    "outputs = np.array([[0.6] * output_dim, [0.6 + np.sqrt(dy2)] * output_dim]) / np.sqrt(\n",
    "    output_dim\n",
    ")\n",
    "names = [\"A\", \"B\"]\n",
    "data = TensorDataset(\n",
    "    torch.from_numpy(inputs.astype(np.float32)).to(device),\n",
    "    torch.from_numpy(outputs.astype(np.float32)).to(device),\n",
    ")\n",
    "\n",
    "encoding = Encoding(dict(zip(names, inputs)))\n",
    "\n",
    "train_datasets = [data]\n",
    "\n",
    "tracked_datasets = train_datasets"
   ]
  },
  {
   "cell_type": "code",
   "execution_count": 5,
   "metadata": {},
   "outputs": [],
   "source": [
    "## Instantiate model\n",
    "model = model_type(\n",
    "    input_size=input_dim,\n",
    "    output_size=output_dim,\n",
    "    hidden_dim=P,\n",
    "    n_hid_layers=L,\n",
    "    device=device,\n",
    "    init_std=gain,\n",
    "    non_linearity=nonlinearity,\n",
    "    encoding=encoding,\n",
    ")"
   ]
  },
  {
   "cell_type": "code",
   "execution_count": 6,
   "metadata": {},
   "outputs": [],
   "source": [
    "## Setup compiler\n",
    "criterion = lambda x, y: 0.5 * nn.functional.mse_loss(x, y)\n",
    "optimizer = torch.optim.SGD(model.parameters(), lr=lr)\n",
    "compiler = Compiler(model, criterion, optimizer)\n",
    "compiler.trackers = {\n",
    "    \"loss\": ScalarTracker(lambda: compiler.validation(tracked_datasets)),\n",
    "    \"hidden\": ActivationTracker(\n",
    "        model, lambda inputs: model(inputs)[1][hidden_layer], datasets=tracked_datasets\n",
    "    ),\n",
    "    \"output\": ActivationTracker(\n",
    "        model, lambda inputs: model(inputs)[0], datasets=tracked_datasets\n",
    "    ),\n",
    "}"
   ]
  },
  {
   "cell_type": "code",
   "execution_count": 7,
   "metadata": {},
   "outputs": [
    {
     "name": "stderr",
     "output_type": "stream",
     "text": [
      "Training: 100%|██████████| 6000/6000 [02:09<00:00, 46.39steps/s, train_loss=0.00000, val_loss=0.00000]\n"
     ]
    }
   ],
   "source": [
    "## Training run\n",
    "compiler.training_run(\n",
    "    train_datasets,\n",
    "    tracked_datasets,\n",
    "    n_epochs=n_epochs,\n",
    "    batch_size=100,\n",
    ")"
   ]
  },
  {
   "cell_type": "code",
   "execution_count": 8,
   "metadata": {},
   "outputs": [],
   "source": [
    "## Get data\n",
    "data_hid = compiler.trackers[\"hidden\"].get_trace()\n",
    "data_output = compiler.trackers[\"output\"].get_trace()\n",
    "\n",
    "loss = compiler.trackers[\"loss\"].get_trace().copy()\n",
    "train_loss = loss.groupby(\"Epoch\").mean()\n",
    "train_loss = train_loss.to_numpy().ravel()\n",
    "\n",
    "epochs = list(set(data_output.index.get_level_values(\"Epoch\")))\n",
    "epochs.sort()\n",
    "\n",
    "h_A = [np.array(data.loc[epoch, 0, \"A\"]) for epoch, data in data_hid.groupby(\"Epoch\")]\n",
    "h_B = [np.array(data.loc[epoch, 0, \"B\"]) for epoch, data in data_hid.groupby(\"Epoch\")]\n",
    "y_A = [\n",
    "    np.array(data.loc[epoch, 0, \"A\"]) for epoch, data in data_output.groupby(\"Epoch\")\n",
    "]\n",
    "y_B = [\n",
    "    np.array(data.loc[epoch, 0, \"B\"]) for epoch, data in data_output.groupby(\"Epoch\")\n",
    "]\n",
    "\n",
    "y_true_A, y_true_B = outputs[0], outputs[1]\n",
    "dy2 = np.sum((y_true_B - y_true_A) ** 2)\n",
    "h2 = np.array([np.sum((h_A[epoch] - h_B[epoch]) ** 2) for epoch in epochs])\n",
    "y2 = np.array([np.sum((y_A[epoch] - y_B[epoch]) ** 2) for epoch in epochs])\n",
    "w = np.array(\n",
    "    [\n",
    "        y2[epoch] - np.dot(y_true_A - y_true_B, y_A[epoch] - y_B[epoch])\n",
    "        for epoch in epochs\n",
    "    ]\n",
    ")\n",
    "y0_mean = np.sum((0.5 * ((y_A[0] + y_B[0]) - (y_true_B + y_true_A))) ** 2)\n",
    "\n",
    "h0, y0, w0, dy = h2[0], y2[0], w[0], dy2"
   ]
  },
  {
   "cell_type": "code",
   "execution_count": 9,
   "metadata": {},
   "outputs": [
    {
     "name": "stdout",
     "output_type": "stream",
     "text": [
      "Loss: 0.6112965221180543\n",
      "Loss: 0.014335377554248468\n"
     ]
    },
    {
     "name": "stderr",
     "output_type": "stream",
     "text": [
      "/mnt/c/wsl/ICML2024/experiments/../source/simulate.py:109: RuntimeWarning: overflow encountered in square\n",
      "  model_loss = np.sum((pred - train_loss) ** 2)\n",
      "/home/loek/miniconda3/envs/ICML2024/lib/python3.10/site-packages/scipy/optimize/_numdiff.py:590: RuntimeWarning: invalid value encountered in subtract\n",
      "  df = fun(x) - f0\n",
      "/mnt/c/wsl/ICML2024/experiments/../source/simulate.py:109: RuntimeWarning: overflow encountered in square\n",
      "  model_loss = np.sum((pred - train_loss) ** 2)\n",
      "/home/loek/miniconda3/envs/ICML2024/lib/python3.10/site-packages/numpy/core/fromnumeric.py:88: RuntimeWarning: overflow encountered in reduce\n",
      "  return ufunc.reduce(obj, axis, dtype, out, **passkwargs)\n"
     ]
    }
   ],
   "source": [
    "## Fit effective learning rates\n",
    "eta_h_opt, eta_y_opt, loss = simulate.optimize_eta(\n",
    "    h2, y2, w, dx2, dy2, guesses=np.logspace(-6, 2, 100)\n",
    ")\n",
    "\n",
    "sol = scipy.integrate.solve_ivp(\n",
    "    simulate.der,\n",
    "    [0, len(epochs)],\n",
    "    [h0, y0, w0],\n",
    "    args=(eta_h_opt, eta_y_opt, dx2, dy2),\n",
    "    dense_output=True,\n",
    ")\n",
    "t = np.linspace(0, len(epochs), len(epochs))\n",
    "z = sol.sol(t)\n",
    "\n",
    "eta_y_mean_opt = simulate.optimize_eta_y_mean(z, train_loss, dy2, y0_mean)\n",
    "\n",
    "loss_theory = simulate.loss(t, z, eta_y_mean_opt, dy2, y0_mean)"
   ]
  },
  {
   "cell_type": "code",
   "execution_count": 10,
   "metadata": {},
   "outputs": [
    {
     "name": "stderr",
     "output_type": "stream",
     "text": [
      "The PostScript backend does not support transparency; partially transparent artists will be rendered opaque.\n"
     ]
    },
    {
     "data": {
      "image/png": "[encoded data removed]",
      "text/plain": [
       "<Figure size 400x300 with 1 Axes>"
      ]
     },
     "metadata": {},
     "output_type": "display_data"
    },
    {
     "name": "stderr",
     "output_type": "stream",
     "text": [
      "The PostScript backend does not support transparency; partially transparent artists will be rendered opaque.\n"
     ]
    },
    {
     "data": {
      "image/png": "[encoded data removed]",
      "text/plain": [
       "<Figure size 400x300 with 1 Axes>"
      ]
     },
     "metadata": {},
     "output_type": "display_data"
    }
   ],
   "source": [
    "traj_path = \"plots/2_points/trajectories/\"\n",
    "\n",
    "publication.set_color_mixed()\n",
    "figsize = (4, 3)\n",
    "\n",
    "# Plot 3-d dynamical system\n",
    "fig, ax = plt.subplots(figsize=figsize)\n",
    "plt.plot(t, z[0], linestyle=\"--\")\n",
    "plt.plot(t, z[1], linestyle=\"--\")\n",
    "plt.plot(t, z[2], linestyle=\"--\")\n",
    "plt.gca().set_prop_cycle(None)\n",
    "ax.plot(t, h2, label=\"$||dh||^2$\")\n",
    "ax.plot(t, y2, label=\"$||dy||^2$\")\n",
    "ax.plot(t, w, label=\"$w$\")\n",
    "ax.legend()\n",
    "plt.xlabel(\"Epochs\")\n",
    "if save:\n",
    "    publication.plt_show(save_path=traj_path + \"ode/\" + settings + \".png\")\n",
    "else:\n",
    "    publication.plt_show()\n",
    "\n",
    "# Plot loss\n",
    "fig, ax = plt.subplots(figsize=figsize)\n",
    "plt.gca().set_prop_cycle(None)\n",
    "ax.plot(0, 0)\n",
    "ax.plot(0, 0)\n",
    "ax.plot(t, loss_theory, label=r\"loss (theory)\", linestyle=\"--\")\n",
    "ax.plot(0, 0)\n",
    "ax.plot(t, train_loss, label=\"loss\", zorder=1)\n",
    "ax.legend()\n",
    "plt.ylim(0, 0.5)\n",
    "plt.xlabel(\"Epochs\")\n",
    "if save:\n",
    "    publication.plt_show(save_path=traj_path + \"loss/\" + settings + \".png\")\n",
    "else:\n",
    "    publication.plt_show()"
   ]
  }
 ],
 "metadata": {
  "kernelspec": {
   "display_name": "Python 3.10.6 ('rnn')",
   "language": "python",
   "name": "python3"
  },
  "language_info": {
   "codemirror_mode": {
    "name": "ipython",
    "version": 3
   },
   "file_extension": ".py",
   "mimetype": "text/x-python",
   "name": "python",
   "nbconvert_exporter": "python",
   "pygments_lexer": "ipython3",
   "version": "3.10.13"
  },
  "orig_nbformat": 4,
  "vscode": {
   "interpreter": {
    "hash": "e02af9847f8f14625728f2f7147d07d87bda9043f1b0a8cf0822fa7c64756065"
   }
  }
 },
 "nbformat": 4,
 "nbformat_minor": 2
}
